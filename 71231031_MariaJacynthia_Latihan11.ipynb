{
 "cells": [
  {
   "cell_type": "code",
   "execution_count": 6,
   "metadata": {},
   "outputs": [
    {
     "name": "stdout",
     "output_type": "stream",
     "text": [
      "True\n"
     ]
    }
   ],
   "source": [
    "#soal 11-1\n",
    "def semuatupsama(t):\n",
    "    return all(x == t[0] for x in t)\n",
    "\n",
    "#testcase\n",
    "tA = (90, 90, 90, 90)\n",
    "print(semuatupsama(tA))"
   ]
  },
  {
   "cell_type": "code",
   "execution_count": 11,
   "metadata": {},
   "outputs": [
    {
     "name": "stdout",
     "output_type": "stream",
     "text": [
      "Data: ('Matahari Bhakti Nendya', '22064091', 'Bantul, DI Yogyakarta')\n",
      "NIM : 22064091\n",
      "NAMA : Matahari Bhakti Nendya\n",
      "ALAMAT : Bantul, DI Yogyakarta\n",
      "NIM: ('2', '2', '0', '6', '4', '0', '9', '1')\n",
      "NAMA DEPAN: ('a', 't', 'a', 'h', 'a', 'r', 'i')\n",
      "NAMA TERBALIK: ('Nendya', 'Bhakti', 'Matahari')\n"
     ]
    }
   ],
   "source": [
    "#soal 11-2\n",
    "data = ('Matahari Bhakti Nendya', '22064091', 'Bantul, DI Yogyakarta')\n",
    "nama, nim, alamat = data\n",
    "\n",
    "print(f\"Data: {data}\")\n",
    "print(f\"NIM : {nim}\")\n",
    "print(f\"NAMA : {nama}\")\n",
    "print(f\"ALAMAT : {alamat}\")\n",
    "\n",
    "nimtuple = tuple(nim)\n",
    "print(f\"NIM: {nimtuple}\")\n",
    "\n",
    "namadepan = tuple(nama.split()[0][1:])\n",
    "print(f\"NAMA DEPAN: {namadepan}\")\n",
    "\n",
    "namaterbalik = tuple(nama.split()[::-1])\n",
    "print(f\"NAMA TERBALIK: {namaterbalik}\")"
   ]
  },
  {
   "cell_type": "code",
   "execution_count": 12,
   "metadata": {},
   "outputs": [
    {
     "name": "stdout",
     "output_type": "stream",
     "text": [
      "04 3\n",
      "06 1\n",
      "07 1\n",
      "09 2\n",
      "10 3\n",
      "11 6\n",
      "14 1\n",
      "15 2\n",
      "16 4\n",
      "17 2\n",
      "18 1\n",
      "19 1\n"
     ]
    }
   ],
   "source": [
    "#soal 11-3\n",
    "namafile = input(\"Masukkan nama file: \")\n",
    "hitungjam = {}\n",
    "\n",
    "try:\n",
    "    with open(namafile, 'r') as file:\n",
    "        for baris in file:\n",
    "            if baris.startswith('From '):\n",
    "                part = baris.split()\n",
    "                bagianwaktu = part[5]\n",
    "                hour = bagianwaktu.split(':')[0]\n",
    "                hitungjam[hour] = hitungjam.get(hour, 0) + 1\n",
    "except FileNotFoundError:\n",
    "    print(f\"File {namafile} tidak ditemukan.\")\n",
    "    exit()\n",
    "\n",
    "urutanwaktu = sorted(hitungjam.items())\n",
    "for hour, count in urutanwaktu:\n",
    "    print(f\"{hour} {count}\")\n"
   ]
  }
 ],
 "metadata": {
  "kernelspec": {
   "display_name": "Python 3",
   "language": "python",
   "name": "python3"
  },
  "language_info": {
   "codemirror_mode": {
    "name": "ipython",
    "version": 3
   },
   "file_extension": ".py",
   "mimetype": "text/x-python",
   "name": "python",
   "nbconvert_exporter": "python",
   "pygments_lexer": "ipython3",
   "version": "3.12.0"
  }
 },
 "nbformat": 4,
 "nbformat_minor": 2
}
